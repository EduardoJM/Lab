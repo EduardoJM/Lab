{
 "cells": [
  {
   "cell_type": "code",
   "execution_count": 1,
   "id": "ecological-assignment",
   "metadata": {},
   "outputs": [],
   "source": [
    "from soss.attributes import VoteGeneratorRule\n",
    "from soss.population import PopulationAgeRangeGenreBased\n",
    "from soss.confianceinterval import ProportionConservator, ProportionOptimist"
   ]
  },
  {
   "cell_type": "markdown",
   "id": "valuable-baseline",
   "metadata": {},
   "source": [
    "### Create a vote generator rule\n",
    "\n",
    "Consider 7 candidates with the winings probabilities: **0.2992** (29,92%), **0.2156** (21,56%), **0.1526** (15,26%), **0.1303** (13,03%), **0.1097** (10,97%), **0.0799** (7,99%), **0.0127** (1,27%)."
   ]
  },
  {
   "cell_type": "code",
   "execution_count": 2,
   "id": "everyday-chuck",
   "metadata": {},
   "outputs": [],
   "source": [
    "vote_generator = VoteGeneratorRule([0.2992, 0.2156, 0.1526, 0.1303, 0.1097, 0.0799, 0.0127])"
   ]
  },
  {
   "cell_type": "markdown",
   "id": "presidential-arrest",
   "metadata": {},
   "source": [
    "### Create a population based on age range and genre"
   ]
  },
  {
   "cell_type": "code",
   "execution_count": 3,
   "id": "express-steering",
   "metadata": {},
   "outputs": [],
   "source": [
    "pop = PopulationAgeRangeGenreBased([\n",
    "    {\n",
    "        \"description\": \"16 a 24\",\n",
    "        \"size_male\": 27196,\n",
    "        \"size_female\": 26914\n",
    "    },\n",
    "    {\n",
    "        \"description\": \"25 a 34\",\n",
    "        \"size_male\": 28400,\n",
    "        \"size_female\": 29417\n",
    "    },\n",
    "    {\n",
    "        \"description\": \"35 a 44\",\n",
    "        \"size_male\": 24142,\n",
    "        \"size_female\": 26513\n",
    "    },\n",
    "    {\n",
    "        \"description\": \"45 a 59\",\n",
    "        \"size_male\": 25570,\n",
    "        \"size_female\": 28788\n",
    "    },\n",
    "    {\n",
    "        \"description\": \"60+\",\n",
    "        \"size_male\": 14689,\n",
    "        \"size_female\": 18573\n",
    "    }\n",
    "])"
   ]
  },
  {
   "cell_type": "markdown",
   "id": "tracked-easter",
   "metadata": {},
   "source": [
    "### Make the census"
   ]
  },
  {
   "cell_type": "code",
   "execution_count": 4,
   "id": "brown-silicon",
   "metadata": {},
   "outputs": [],
   "source": [
    "data = vote_generator.create_counter_data()\n",
    "pop.count(data, vote_generator)\n",
    "vote_generator.counter_data_to_proportion(data)"
   ]
  },
  {
   "cell_type": "code",
   "execution_count": 5,
   "id": "revolutionary-soccer",
   "metadata": {},
   "outputs": [
    {
     "name": "stdout",
     "output_type": "stream",
     "text": [
      "Population:  250202\n",
      "[0.3366959496726645, 0.20738843014844005, 0.14965108192580395, 0.1290277455815701, 0.09869225665662144, 0.06881239958113844, 0.00973213643376152]\n"
     ]
    }
   ],
   "source": [
    "print(\"Population: \", pop.get_population_size())\n",
    "print(data)"
   ]
  },
  {
   "cell_type": "markdown",
   "id": "proud-binary",
   "metadata": {},
   "source": [
    "### Make the survey"
   ]
  },
  {
   "cell_type": "code",
   "execution_count": 7,
   "id": "republican-debate",
   "metadata": {},
   "outputs": [],
   "source": [
    "sample = pop.get_sample(2401)\n",
    "data = vote_generator.create_counter_data()\n",
    "sample.count(data, vote_generator)\n",
    "vote_generator.counter_data_to_proportion(data)"
   ]
  },
  {
   "cell_type": "code",
   "execution_count": 8,
   "id": "bright-operator",
   "metadata": {},
   "outputs": [
    {
     "name": "stdout",
     "output_type": "stream",
     "text": [
      "Sample:  2400\n",
      "[0.3333333333333333, 0.21583333333333332, 0.15708333333333332, 0.1275, 0.09583333333333334, 0.06333333333333334, 0.007083333333333333]\n"
     ]
    }
   ],
   "source": [
    "print(\"Sample: \", sample.get_sample_size())\n",
    "print(data)"
   ]
  },
  {
   "cell_type": "markdown",
   "id": "latter-entrance",
   "metadata": {},
   "source": [
    "### Create the confiance intervals"
   ]
  },
  {
   "cell_type": "code",
   "execution_count": 9,
   "id": "going-mills",
   "metadata": {},
   "outputs": [],
   "source": [
    "ic1 = ProportionConservator()\n",
    "ic2 = ProportionOptimist(data)\n",
    "e1 = ic1.get_error_to(sample, 0.95)\n",
    "e2 = ic2.get_error_to(sample, 0.95)"
   ]
  },
  {
   "cell_type": "code",
   "execution_count": 10,
   "id": "minor-customer",
   "metadata": {},
   "outputs": [
    {
     "name": "stdout",
     "output_type": "stream",
     "text": [
      "Conservator confiance interval:\n",
      "0.02000379865148046\n",
      "Optimist confiance interval:\n",
      "[0.01885976223460286, 0.01645909370888355, 0.014557937312350824, 0.013343823238434329, 0.01177673800219118, 0.009744311883921749, 0.0033551945703814505]\n"
     ]
    }
   ],
   "source": [
    "print(\"Conservator confiance interval:\")\n",
    "print(e1)\n",
    "print(\"Optimist confiance interval:\")\n",
    "print(e2)"
   ]
  }
 ],
 "metadata": {
  "kernelspec": {
   "display_name": "Python 3",
   "language": "python",
   "name": "python3"
  },
  "language_info": {
   "codemirror_mode": {
    "name": "ipython",
    "version": 3
   },
   "file_extension": ".py",
   "mimetype": "text/x-python",
   "name": "python",
   "nbconvert_exporter": "python",
   "pygments_lexer": "ipython3",
   "version": "3.9.2"
  }
 },
 "nbformat": 4,
 "nbformat_minor": 5
}
