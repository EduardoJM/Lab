{
 "cells": [
  {
   "cell_type": "code",
   "execution_count": 1,
   "id": "optional-musical",
   "metadata": {},
   "outputs": [],
   "source": [
    "from soss.confianceinterval import ProportionConservator"
   ]
  },
  {
   "cell_type": "markdown",
   "id": "confused-smoke",
   "metadata": {},
   "source": [
    "### Get sample size for a confiance interval\n",
    "\n",
    "Consider a confiance interval with confiability of 0.95 (95%) and a maximum error of 0.02 (2%)."
   ]
  },
  {
   "cell_type": "code",
   "execution_count": 2,
   "id": "colored-vegetarian",
   "metadata": {},
   "outputs": [],
   "source": [
    "size = ProportionConservator.get_sample_size(0.95, 0.02)"
   ]
  },
  {
   "cell_type": "code",
   "execution_count": 3,
   "id": "norman-seeking",
   "metadata": {},
   "outputs": [
    {
     "name": "stdout",
     "output_type": "stream",
     "text": [
      "2401\n"
     ]
    }
   ],
   "source": [
    "# show information\n",
    "print(size)"
   ]
  }
 ],
 "metadata": {
  "kernelspec": {
   "display_name": "Python 3",
   "language": "python",
   "name": "python3"
  },
  "language_info": {
   "codemirror_mode": {
    "name": "ipython",
    "version": 3
   },
   "file_extension": ".py",
   "mimetype": "text/x-python",
   "name": "python",
   "nbconvert_exporter": "python",
   "pygments_lexer": "ipython3",
   "version": "3.9.2"
  }
 },
 "nbformat": 4,
 "nbformat_minor": 5
}
