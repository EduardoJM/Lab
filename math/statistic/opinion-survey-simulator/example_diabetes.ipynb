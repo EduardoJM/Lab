{
 "cells": [
  {
   "cell_type": "code",
   "execution_count": 2,
   "id": "removable-relief",
   "metadata": {},
   "outputs": [],
   "source": [
    "from soss.attributes import DiseaseState\n",
    "from soss.population import PopulationRandom, People, GENRE_UNKNOWN\n",
    "from soss.confianceinterval import ProportionConservator, ProportionOptimist"
   ]
  },
  {
   "cell_type": "markdown",
   "id": "olive-newspaper",
   "metadata": {},
   "source": [
    "### Create the disease state\n",
    "\n",
    "Create a new disease state with a probability of 0.4 (40%) for the people has diabetes and a probability of of 0.55 (55%) for the peoples with diabetes known if has the doence."
   ]
  },
  {
   "cell_type": "code",
   "execution_count": 3,
   "id": "tribal-leone",
   "metadata": {},
   "outputs": [],
   "source": [
    "diabetes_state = DiseaseState(\"Diabetes\", 0.4, 0.55)"
   ]
  },
  {
   "cell_type": "markdown",
   "id": "numerous-casting",
   "metadata": {},
   "source": [
    "### Create the population\n",
    "\n",
    "Create a function to create peoples for this experiment."
   ]
  },
  {
   "cell_type": "code",
   "execution_count": 4,
   "id": "later-behalf",
   "metadata": {},
   "outputs": [],
   "source": [
    "def create_people():\n",
    "    # the genre not interfer in this example, because\n",
    "    # we use an random population\n",
    "    p = People(GENRE_UNKNOWN)\n",
    "    # apply a new diabetes state to this people\n",
    "    diabetes_state.apply_to(p)\n",
    "    # and return this\n",
    "    return p"
   ]
  },
  {
   "cell_type": "markdown",
   "id": "monetary-tulsa",
   "metadata": {},
   "source": [
    "Create a new population with **1.500.000** peoples."
   ]
  },
  {
   "cell_type": "code",
   "execution_count": 5,
   "id": "narrative-defendant",
   "metadata": {},
   "outputs": [],
   "source": [
    "population = PopulationRandom(1500000, create_people)"
   ]
  },
  {
   "cell_type": "markdown",
   "id": "supreme-consortium",
   "metadata": {},
   "source": [
    "### Make the census\n",
    "\n",
    "Create a new counter data for an census with **1.500.000** peoples, count the information in the peoples of the population and transform the census data to proportion."
   ]
  },
  {
   "cell_type": "code",
   "execution_count": 6,
   "id": "alternate-placement",
   "metadata": {},
   "outputs": [],
   "source": [
    "diabetes_census = diabetes_state.create_counter_data()\n",
    "population.count(diabetes_census, diabetes_state)\n",
    "diabetes_state.counter_data_to_proportion(diabetes_census)"
   ]
  },
  {
   "cell_type": "code",
   "execution_count": 7,
   "id": "dated-final",
   "metadata": {},
   "outputs": [
    {
     "name": "stdout",
     "output_type": "stream",
     "text": [
      "Census with 1.500.000 peoples\n",
      "[0.6452524497404452, 0.5497810204397569]\n"
     ]
    }
   ],
   "source": [
    "# show information\n",
    "print(\"Census with 1.500.000 peoples\")\n",
    "print(diabetes_census)"
   ]
  },
  {
   "cell_type": "markdown",
   "id": "authorized-chapter",
   "metadata": {},
   "source": [
    "### Make the survey\n",
    "\n",
    "Create a new sample with **2.401** peoples, create a new counter data for the survey, count the information in the people of the sample and transform the data to proportion."
   ]
  },
  {
   "cell_type": "code",
   "execution_count": 8,
   "id": "lesbian-alaska",
   "metadata": {},
   "outputs": [],
   "source": [
    "sample = population.get_sample(2401)\n",
    "diabetes_sample = diabetes_state.create_counter_data()\n",
    "sample.count(diabetes_sample, diabetes_state)\n",
    "diabetes_state.counter_data_to_proportion(diabetes_sample)"
   ]
  },
  {
   "cell_type": "code",
   "execution_count": 9,
   "id": "environmental-recipe",
   "metadata": {},
   "outputs": [
    {
     "name": "stdout",
     "output_type": "stream",
     "text": [
      "Survey with 2.401 peoples\n",
      "[0.6431424766977364, 0.5548654244306418]\n"
     ]
    }
   ],
   "source": [
    "print(\"Survey with 2.401 peoples\")\n",
    "print(diabetes_sample)"
   ]
  },
  {
   "cell_type": "markdown",
   "id": "damaged-cross",
   "metadata": {},
   "source": [
    "### Create the confiance interval\n",
    "\n",
    "Create a optimist and a conservator confiance interval with 95% of confiability."
   ]
  },
  {
   "cell_type": "code",
   "execution_count": 10,
   "id": "chicken-integrity",
   "metadata": {},
   "outputs": [
    {
     "name": "stdout",
     "output_type": "stream",
     "text": [
      "confiance interval with 95% of confiability\n",
      "conservator confiance interval for the proportion\n",
      "error is +\\- 0.019999632495306674\n",
      "optimist confiance interval for the proportion\n",
      "error is +\\- [0.01916253832178243, 0.019878861468199425]\n"
     ]
    }
   ],
   "source": [
    "# confiance interval error\n",
    "print(\"confiance interval with 95% of confiability\")\n",
    "print(\"conservator confiance interval for the proportion\")\n",
    "ic1 = ProportionConservator()\n",
    "print(\"error is +\\\\-\", ic1.get_error_to(sample, 0.95))\n",
    "ic2 = ProportionOptimist(diabetes_sample)\n",
    "print(\"optimist confiance interval for the proportion\")\n",
    "print(\"error is +\\\\-\", ic2.get_error_to(sample, 0.95))"
   ]
  },
  {
   "cell_type": "markdown",
   "id": "alleged-coach",
   "metadata": {},
   "source": [
    "> **Observation:**\n",
    ">\n",
    "> The optimist confiance interval for the proportion has two values because this takes into account the proportion, then the value is not the same for two different proportions"
   ]
  }
 ],
 "metadata": {
  "kernelspec": {
   "display_name": "Python 3",
   "language": "python",
   "name": "python3"
  },
  "language_info": {
   "codemirror_mode": {
    "name": "ipython",
    "version": 3
   },
   "file_extension": ".py",
   "mimetype": "text/x-python",
   "name": "python",
   "nbconvert_exporter": "python",
   "pygments_lexer": "ipython3",
   "version": "3.9.2"
  }
 },
 "nbformat": 4,
 "nbformat_minor": 5
}